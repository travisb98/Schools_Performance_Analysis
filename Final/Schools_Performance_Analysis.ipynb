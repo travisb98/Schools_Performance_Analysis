{
 "cells": [
  {
   "cell_type": "markdown",
   "metadata": {},
   "source": [
    "### Note\n",
    "* Instructions have been included for each segment. You do not have to follow them exactly, but they are included to help you think through the steps."
   ]
  },
  {
   "cell_type": "code",
   "execution_count": 105,
   "metadata": {},
   "outputs": [
    {
     "output_type": "execute_result",
     "data": {
      "text/plain": [
       "       Student ID       student_name gender grade         school_name  \\\n",
       "0               0       Paul Bradley      M   9th   Huang High School   \n",
       "1               1       Victor Smith      M  12th   Huang High School   \n",
       "2               2    Kevin Rodriguez      M  12th   Huang High School   \n",
       "3               3  Dr. Richard Scott      M  12th   Huang High School   \n",
       "4               4         Bonnie Ray      F   9th   Huang High School   \n",
       "...           ...                ...    ...   ...                 ...   \n",
       "39165       39165       Donna Howard      F  12th  Thomas High School   \n",
       "39166       39166          Dawn Bell      F  10th  Thomas High School   \n",
       "39167       39167     Rebecca Tanner      F   9th  Thomas High School   \n",
       "39168       39168       Desiree Kidd      F  10th  Thomas High School   \n",
       "39169       39169    Carolyn Jackson      F  11th  Thomas High School   \n",
       "\n",
       "       reading_score  math_score  School ID      type  size   budget  \n",
       "0                 66          79          0  District  2917  1910635  \n",
       "1                 94          61          0  District  2917  1910635  \n",
       "2                 90          60          0  District  2917  1910635  \n",
       "3                 67          58          0  District  2917  1910635  \n",
       "4                 97          84          0  District  2917  1910635  \n",
       "...              ...         ...        ...       ...   ...      ...  \n",
       "39165             99          90         14   Charter  1635  1043130  \n",
       "39166             95          70         14   Charter  1635  1043130  \n",
       "39167             73          84         14   Charter  1635  1043130  \n",
       "39168             99          90         14   Charter  1635  1043130  \n",
       "39169             95          75         14   Charter  1635  1043130  \n",
       "\n",
       "[39170 rows x 11 columns]"
      ],
      "text/html": "<div>\n<style scoped>\n    .dataframe tbody tr th:only-of-type {\n        vertical-align: middle;\n    }\n\n    .dataframe tbody tr th {\n        vertical-align: top;\n    }\n\n    .dataframe thead th {\n        text-align: right;\n    }\n</style>\n<table border=\"1\" class=\"dataframe\">\n  <thead>\n    <tr style=\"text-align: right;\">\n      <th></th>\n      <th>Student ID</th>\n      <th>student_name</th>\n      <th>gender</th>\n      <th>grade</th>\n      <th>school_name</th>\n      <th>reading_score</th>\n      <th>math_score</th>\n      <th>School ID</th>\n      <th>type</th>\n      <th>size</th>\n      <th>budget</th>\n    </tr>\n  </thead>\n  <tbody>\n    <tr>\n      <th>0</th>\n      <td>0</td>\n      <td>Paul Bradley</td>\n      <td>M</td>\n      <td>9th</td>\n      <td>Huang High School</td>\n      <td>66</td>\n      <td>79</td>\n      <td>0</td>\n      <td>District</td>\n      <td>2917</td>\n      <td>1910635</td>\n    </tr>\n    <tr>\n      <th>1</th>\n      <td>1</td>\n      <td>Victor Smith</td>\n      <td>M</td>\n      <td>12th</td>\n      <td>Huang High School</td>\n      <td>94</td>\n      <td>61</td>\n      <td>0</td>\n      <td>District</td>\n      <td>2917</td>\n      <td>1910635</td>\n    </tr>\n    <tr>\n      <th>2</th>\n      <td>2</td>\n      <td>Kevin Rodriguez</td>\n      <td>M</td>\n      <td>12th</td>\n      <td>Huang High School</td>\n      <td>90</td>\n      <td>60</td>\n      <td>0</td>\n      <td>District</td>\n      <td>2917</td>\n      <td>1910635</td>\n    </tr>\n    <tr>\n      <th>3</th>\n      <td>3</td>\n      <td>Dr. Richard Scott</td>\n      <td>M</td>\n      <td>12th</td>\n      <td>Huang High School</td>\n      <td>67</td>\n      <td>58</td>\n      <td>0</td>\n      <td>District</td>\n      <td>2917</td>\n      <td>1910635</td>\n    </tr>\n    <tr>\n      <th>4</th>\n      <td>4</td>\n      <td>Bonnie Ray</td>\n      <td>F</td>\n      <td>9th</td>\n      <td>Huang High School</td>\n      <td>97</td>\n      <td>84</td>\n      <td>0</td>\n      <td>District</td>\n      <td>2917</td>\n      <td>1910635</td>\n    </tr>\n    <tr>\n      <th>...</th>\n      <td>...</td>\n      <td>...</td>\n      <td>...</td>\n      <td>...</td>\n      <td>...</td>\n      <td>...</td>\n      <td>...</td>\n      <td>...</td>\n      <td>...</td>\n      <td>...</td>\n      <td>...</td>\n    </tr>\n    <tr>\n      <th>39165</th>\n      <td>39165</td>\n      <td>Donna Howard</td>\n      <td>F</td>\n      <td>12th</td>\n      <td>Thomas High School</td>\n      <td>99</td>\n      <td>90</td>\n      <td>14</td>\n      <td>Charter</td>\n      <td>1635</td>\n      <td>1043130</td>\n    </tr>\n    <tr>\n      <th>39166</th>\n      <td>39166</td>\n      <td>Dawn Bell</td>\n      <td>F</td>\n      <td>10th</td>\n      <td>Thomas High School</td>\n      <td>95</td>\n      <td>70</td>\n      <td>14</td>\n      <td>Charter</td>\n      <td>1635</td>\n      <td>1043130</td>\n    </tr>\n    <tr>\n      <th>39167</th>\n      <td>39167</td>\n      <td>Rebecca Tanner</td>\n      <td>F</td>\n      <td>9th</td>\n      <td>Thomas High School</td>\n      <td>73</td>\n      <td>84</td>\n      <td>14</td>\n      <td>Charter</td>\n      <td>1635</td>\n      <td>1043130</td>\n    </tr>\n    <tr>\n      <th>39168</th>\n      <td>39168</td>\n      <td>Desiree Kidd</td>\n      <td>F</td>\n      <td>10th</td>\n      <td>Thomas High School</td>\n      <td>99</td>\n      <td>90</td>\n      <td>14</td>\n      <td>Charter</td>\n      <td>1635</td>\n      <td>1043130</td>\n    </tr>\n    <tr>\n      <th>39169</th>\n      <td>39169</td>\n      <td>Carolyn Jackson</td>\n      <td>F</td>\n      <td>11th</td>\n      <td>Thomas High School</td>\n      <td>95</td>\n      <td>75</td>\n      <td>14</td>\n      <td>Charter</td>\n      <td>1635</td>\n      <td>1043130</td>\n    </tr>\n  </tbody>\n</table>\n<p>39170 rows × 11 columns</p>\n</div>"
     },
     "metadata": {},
     "execution_count": 105
    }
   ],
   "source": [
    "# Dependencies and Setup\n",
    "import pandas as pd\n",
    "\n",
    "# File to Load (Remember to Change These)\n",
    "school_data_to_load = \"Resources/schools_complete.csv\"\n",
    "student_data_to_load = \"Resources/students_complete.csv\"\n",
    "\n",
    "# Read School and Student Data File and store into Pandas DataFrames\n",
    "school_data = pd.read_csv(school_data_to_load)\n",
    "student_data = pd.read_csv(student_data_to_load)\n",
    "\n",
    "# Combine the data into a single dataset.  \n",
    "school_and_student_df = pd.merge(student_data, school_data, how=\"left\", on=[\"school_name\", \"school_name\"])\n",
    "school_and_student_df\n",
    "\n",
    "\n",
    "\n"
   ]
  },
  {
   "cell_type": "markdown",
   "metadata": {},
   "source": [
    "## District Summary\n",
    "\n",
    "* Calculate the total number of schools\n",
    "\n",
    "* Calculate the total number of students\n",
    "\n",
    "* Calculate the total budget\n",
    "\n",
    "* Calculate the average math score \n",
    "\n",
    "* Calculate the average reading score\n",
    "\n",
    "* Calculate the percentage of students with a passing math score (70 or greater)\n",
    "\n",
    "* Calculate the percentage of students with a passing reading score (70 or greater)\n",
    "\n",
    "* Calculate the percentage of students who passed math **and** reading (% Overall Passing)\n",
    "\n",
    "* Create a dataframe to hold the above results\n",
    "\n",
    "* Optional: give the displayed data cleaner formatting"
   ]
  },
  {
   "cell_type": "code",
   "execution_count": 106,
   "metadata": {},
   "outputs": [
    {
     "output_type": "execute_result",
     "data": {
      "text/plain": [
       "          # Passing overall  % Passing Overall  Students Passing Reading  \\\n",
       "type                                                                       \n",
       "Charter               11785           0.966459                     11785   \n",
       "District              21825           0.809052                     21825   \n",
       "\n",
       "          % Passing Reading  Students Passing Math  % Passing Math  \\\n",
       "type                                                                 \n",
       "Charter            0.966459                  11426        0.937018   \n",
       "District           0.809052                  17944        0.665184   \n",
       "\n",
       "          Average Reading Score  Average Math Score  # of schools  \\\n",
       "type                                                                \n",
       "Charter               83.902821           83.406183             8   \n",
       "District              80.962485           76.987026             7   \n",
       "\n",
       "          # of students  \n",
       "type                     \n",
       "Charter           12194  \n",
       "District          26976  "
      ],
      "text/html": "<div>\n<style scoped>\n    .dataframe tbody tr th:only-of-type {\n        vertical-align: middle;\n    }\n\n    .dataframe tbody tr th {\n        vertical-align: top;\n    }\n\n    .dataframe thead th {\n        text-align: right;\n    }\n</style>\n<table border=\"1\" class=\"dataframe\">\n  <thead>\n    <tr style=\"text-align: right;\">\n      <th></th>\n      <th># Passing overall</th>\n      <th>% Passing Overall</th>\n      <th>Students Passing Reading</th>\n      <th>% Passing Reading</th>\n      <th>Students Passing Math</th>\n      <th>% Passing Math</th>\n      <th>Average Reading Score</th>\n      <th>Average Math Score</th>\n      <th># of schools</th>\n      <th># of students</th>\n    </tr>\n    <tr>\n      <th>type</th>\n      <th></th>\n      <th></th>\n      <th></th>\n      <th></th>\n      <th></th>\n      <th></th>\n      <th></th>\n      <th></th>\n      <th></th>\n      <th></th>\n    </tr>\n  </thead>\n  <tbody>\n    <tr>\n      <th>Charter</th>\n      <td>11785</td>\n      <td>0.966459</td>\n      <td>11785</td>\n      <td>0.966459</td>\n      <td>11426</td>\n      <td>0.937018</td>\n      <td>83.902821</td>\n      <td>83.406183</td>\n      <td>8</td>\n      <td>12194</td>\n    </tr>\n    <tr>\n      <th>District</th>\n      <td>21825</td>\n      <td>0.809052</td>\n      <td>21825</td>\n      <td>0.809052</td>\n      <td>17944</td>\n      <td>0.665184</td>\n      <td>80.962485</td>\n      <td>76.987026</td>\n      <td>7</td>\n      <td>26976</td>\n    </tr>\n  </tbody>\n</table>\n</div>"
     },
     "metadata": {},
     "execution_count": 106
    }
   ],
   "source": [
    "# ----------------------------\n",
    "\n",
    "##### totals calculations\n",
    "#groups the data by type, turning it into a groupby object\n",
    "schooldata_typegroup=school_and_student_df.groupby(\"type\")\n",
    "#Returns unique students and school names for each type\n",
    "dist_totals=pd.DataFrame(schooldata_typegroup[\"school_name\",\"Student ID\",].nunique())\n",
    "#turns the original school data into a grouby by object in the type series\n",
    "totalbudget_dist=school_data.groupby(\"type\").sum()\n",
    "## add the total budget from the totalbudget_dist\n",
    "dist_totals.join(totalbudget_dist[\"budget\"])\n",
    "\n",
    "###### averages calculation\n",
    "#joins the data on \"type\", calculating the mean\n",
    "dist_averages=pd.DataFrame(school_and_student_df.groupby(\"type\").mean())\n",
    "# i would like to figure out how to do this on 1 line\n",
    "del dist_averages['budget']\n",
    "del dist_averages['Student ID']\n",
    "del dist_averages['School ID']\n",
    "del dist_averages['size']\n",
    "\n",
    "\n",
    "\n",
    "###calculates the percentages--(I could iterate through the reading and math sections of the below code to reduce redundancy)\n",
    "#calculating math percentage\n",
    "#pulls in the student id and type if the studen's mathscore is equal to or above\n",
    "passingmath_dist = school_and_student_df.loc[school_and_student_df[\"math_score\"]>= 70,[\"Student ID\",\"type\"]]\n",
    "# groups the data by type then turns it into a data frame\n",
    "passingmath_summary_dist=passingmath_dist.groupby(\"type\").count()\n",
    "pd.DataFrame(passingmath_summary_dist)\n",
    "#Calculates the percentage of students passing math and renames the student id column correctly\n",
    "passingmath_summary_dist[\"% Passing math\"]=passingmath_summary_dist[\"Student ID\"]/dist_totals[\"Student ID\"]\n",
    "passingmath_summary_dist=passingmath_summary_dist.rename(columns={'Student ID':'Students Passing Math','% Passing math':'% Passing Math'})\n",
    "#-----\n",
    "##calculating reading percentage\n",
    "#pulls in the student id and type if the studen's readingscore is equal to or above 70\n",
    "passingread_dist = school_and_student_df.loc[school_and_student_df[\"reading_score\"]>= 70,[\"Student ID\",\"type\"]]\n",
    "# groups the data by type then turns it into a data frame\n",
    "passingread_summary_dist=passingread_dist.groupby(\"type\").count()\n",
    "pd.DataFrame(passingread_summary_dist)\n",
    "#calculates the percentage of students passing reading and renames the student id column correctly\n",
    "passingread_summary_dist[\"% Passing read\"]=passingread_summary_dist[\"Student ID\"] / dist_totals[\"Student ID\"]\n",
    "passingread_summary_dist=passingread_summary_dist.rename(columns={'Student ID':'Students Passing Reading','% Passing read':'% Passing Reading'})\n",
    "#-----\n",
    "##calculating the overall pass rates\n",
    "percentpassingoverall_dist =school_and_student_df.loc[school_and_student_df[\"math_score\" and \"reading_score\"]>= 70,[\"Student ID\",\"type\"]]\n",
    "# groups the data by type then turns it into a data frame\n",
    "percentpassingoverall_summary_dist=percentpassingoverall_dist.groupby(\"type\").count()\n",
    "pd.DataFrame(percentpassingoverall_summary_dist)\n",
    "#calculates the percentage of students passing math/reading and renames the student id column correctly\n",
    "percentpassingoverall_summary_dist[\"% Passing Overall\"]=percentpassingoverall_summary_dist[\"Student ID\"] / dist_totals[\"Student ID\"]\n",
    "percentpassingoverall_summary_dist=percentpassingoverall_summary_dist.rename(columns={'Student ID':'# Passing overall'})\n",
    "percentpassingoverall_summary_dist.head()\n",
    "\n",
    "#-----------------------------------------------\n",
    "#need to join the dataframes together and display all the requested results, then format the table so it looks pretty\n",
    "#renames the headers of dist_totals\n",
    "dist_totals=dist_totals.rename(columns={'school_name':'# of schools','Student ID':'# of students'})\n",
    "#renames the headers of dist_averages\n",
    "dist_averages=dist_averages.rename(columns={'reading_score':'Average Reading Score','math_score':'Average Math Score'})\n",
    "\n",
    "\n",
    "#list of gathered data frames excluding dist_totals\n",
    "summarydf_list = [dist_averages,passingmath_summary_dist,passingread_summary_dist,percentpassingoverall_summary_dist]\n",
    "\n",
    "#adds dist_totals to the summary dataframe manually\n",
    "summary_dist_df=dist_totals\n",
    "#loops through the remaining dataframes and joins them to the summary dataframe\n",
    "for sublist in summarydf_list:\n",
    "    summary_dist_df=pd.merge(sublist,summary_dist_df,on=\"type\")\n",
    "\n",
    "\n",
    "summary_dist_df.head()\n",
    "\n",
    "# need to format the columns here\n",
    "\n",
    "\n",
    "\n"
   ]
  },
  {
   "cell_type": "markdown",
   "metadata": {},
   "source": [
    "## School Summary"
   ]
  },
  {
   "cell_type": "markdown",
   "metadata": {},
   "source": [
    "* Create an overview table that summarizes key metrics about each school, including:\n",
    "  * School Name\n",
    "  * School Type\n",
    "  * Total Students\n",
    "  * Total School Budget\n",
    "  * Per Student Budget\n",
    "  * Average Math Score\n",
    "  * Average Reading Score\n",
    "  * % Passing Math\n",
    "  * % Passing Reading\n",
    "  * % Overall Passing (The percentage of students that passed math **and** reading.)\n",
    "  \n",
    "* Create a dataframe to hold the above results"
   ]
  },
  {
   "cell_type": "code",
   "execution_count": 107,
   "metadata": {},
   "outputs": [
    {
     "output_type": "execute_result",
     "data": {
      "text/plain": [
       "                      Total Students      type   budget  Budget Per Student  \\\n",
       "school_name                                                                   \n",
       "Bailey High School              4976  District  3124928               628.0   \n",
       "Cabrera High School             1858   Charter  1081356               582.0   \n",
       "Figueroa High School            2949  District  1884411               639.0   \n",
       "Ford High School                2739  District  1763916               644.0   \n",
       "Griffin High School             1468   Charter   917500               625.0   \n",
       "\n",
       "                      Average Reading Score  Average Math Score  \\\n",
       "school_name                                                       \n",
       "Bailey High School                81.033963           77.048432   \n",
       "Cabrera High School               83.975780           83.061895   \n",
       "Figueroa High School              81.158020           76.711767   \n",
       "Ford High School                  80.746258           77.102592   \n",
       "Griffin High School               83.816757           83.351499   \n",
       "\n",
       "                      Students Passing Reading  Students Passing Math  \\\n",
       "school_name                                                             \n",
       "Bailey High School                        4077                   3318   \n",
       "Cabrera High School                       1803                   1749   \n",
       "Figueroa High School                      2381                   1946   \n",
       "Ford High School                          2172                   1871   \n",
       "Griffin High School                       1426                   1371   \n",
       "\n",
       "                      Students Passing Both  \n",
       "school_name                                  \n",
       "Bailey High School                     4077  \n",
       "Cabrera High School                    1803  \n",
       "Figueroa High School                   2381  \n",
       "Ford High School                       2172  \n",
       "Griffin High School                    1426  "
      ],
      "text/html": "<div>\n<style scoped>\n    .dataframe tbody tr th:only-of-type {\n        vertical-align: middle;\n    }\n\n    .dataframe tbody tr th {\n        vertical-align: top;\n    }\n\n    .dataframe thead th {\n        text-align: right;\n    }\n</style>\n<table border=\"1\" class=\"dataframe\">\n  <thead>\n    <tr style=\"text-align: right;\">\n      <th></th>\n      <th>Total Students</th>\n      <th>type</th>\n      <th>budget</th>\n      <th>Budget Per Student</th>\n      <th>Average Reading Score</th>\n      <th>Average Math Score</th>\n      <th>Students Passing Reading</th>\n      <th>Students Passing Math</th>\n      <th>Students Passing Both</th>\n    </tr>\n    <tr>\n      <th>school_name</th>\n      <th></th>\n      <th></th>\n      <th></th>\n      <th></th>\n      <th></th>\n      <th></th>\n      <th></th>\n      <th></th>\n      <th></th>\n    </tr>\n  </thead>\n  <tbody>\n    <tr>\n      <th>Bailey High School</th>\n      <td>4976</td>\n      <td>District</td>\n      <td>3124928</td>\n      <td>628.0</td>\n      <td>81.033963</td>\n      <td>77.048432</td>\n      <td>4077</td>\n      <td>3318</td>\n      <td>4077</td>\n    </tr>\n    <tr>\n      <th>Cabrera High School</th>\n      <td>1858</td>\n      <td>Charter</td>\n      <td>1081356</td>\n      <td>582.0</td>\n      <td>83.975780</td>\n      <td>83.061895</td>\n      <td>1803</td>\n      <td>1749</td>\n      <td>1803</td>\n    </tr>\n    <tr>\n      <th>Figueroa High School</th>\n      <td>2949</td>\n      <td>District</td>\n      <td>1884411</td>\n      <td>639.0</td>\n      <td>81.158020</td>\n      <td>76.711767</td>\n      <td>2381</td>\n      <td>1946</td>\n      <td>2381</td>\n    </tr>\n    <tr>\n      <th>Ford High School</th>\n      <td>2739</td>\n      <td>District</td>\n      <td>1763916</td>\n      <td>644.0</td>\n      <td>80.746258</td>\n      <td>77.102592</td>\n      <td>2172</td>\n      <td>1871</td>\n      <td>2172</td>\n    </tr>\n    <tr>\n      <th>Griffin High School</th>\n      <td>1468</td>\n      <td>Charter</td>\n      <td>917500</td>\n      <td>625.0</td>\n      <td>83.816757</td>\n      <td>83.351499</td>\n      <td>1426</td>\n      <td>1371</td>\n      <td>1426</td>\n    </tr>\n  </tbody>\n</table>\n</div>"
     },
     "metadata": {},
     "execution_count": 107
    }
   ],
   "source": [
    "# School Name -\n",
    "# School Type -\n",
    "# Total Students -\n",
    "# Total School Budget -\n",
    "# Per Student Budget -\n",
    "# Average Math Score -\n",
    "# Average Reading Score -\n",
    "# % Passing Math\n",
    "# % Passing Reading\n",
    "# % Overall Passing (The percentage of students that passed math and reading.)\n",
    "\n",
    "## begin by pulling in the school name and school type and limit it to unique values, starting the creation of the summary df\n",
    "##get the count of unique student id grouped by school name, thus getting the total students per school figure, pull this into the summary df\n",
    "## geting total school budget. pull the budget for each school by creating a group by object that groups by school name and summarizes the budget\n",
    "## getting the per student budget. create a calculated column within the summary df. total budget per school/total students perschool \n",
    "## average math score and average reading score. create a groupby object that finds the mean of math_score and reading_score grouped on school name. pull into summary df\n",
    "## % passing math, reading, overall - follow previous section but make sure your stuff is grouped on school_name\n",
    "########################################################\n",
    "\n",
    "\n",
    "\n",
    "### total students\n",
    "#pulls in the student per school into the summary dataframe\n",
    "sch_students=school_and_student_df.groupby('school_name').count()\n",
    "sch_summary_df=pd.DataFrame(sch_students['student_name'])\n",
    "#renames the header to Total Students\n",
    "sch_summary_df = sch_summary_df.rename(columns={'student_name':'Total Students'})\n",
    "\n",
    "##school type\n",
    "# - this code pulls in the type and budget column from the original school data\n",
    "sch_summary_df=pd.merge(sch_summary_df,school_data[['school_name','type','budget']],on=\"school_name\",how=\"left\")\n",
    "#resets the index, previous line ---- maybe I could use ignore_index=True in the previous line to eliminate the need for this line\n",
    "sch_summary_df=sch_summary_df.set_index('school_name')\n",
    "\n",
    "#### budget per student\n",
    "sch_summary_df[\"Budget Per Student\"]=sch_summary_df[\"budget\"]/sch_summary_df[\"Total Students\"]\n",
    "\n",
    "####calculates the averages for all series\n",
    "sch_avgs_gbo = school_and_student_df.groupby(\"school_name\").mean()\n",
    "# sch_avgs_gbo.head()\n",
    "#pulls in the average reading score to the summary df\n",
    "sch_summary_df['Average Reading Score']=sch_avgs_gbo['reading_score']\n",
    "#pulls in the average math score to the summary df\n",
    "sch_summary_df['Average Math Score']=sch_avgs_gbo['math_score']\n",
    "\n",
    "\n",
    "### pulls in the number of students passing reading to the summary df\n",
    "sch_passing_reading = school_and_student_df.loc[school_and_student_df['reading_score']>=70,['school_name','Student ID']]\n",
    "sch_passing_reading_gbo=sch_passing_reading.groupby(\"school_name\").count()\n",
    "sch_summary_df=pd.merge(sch_summary_df,sch_passing_reading_gbo,how='outer',on=\"school_name\")\n",
    "sch_summary_df=sch_summary_df.rename(columns={\"Student ID\":\"Students Passing Reading\"})\n",
    "\n",
    "### pulls in the number of stuents passing math to the summary df\n",
    "sch_passing_math=school_and_student_df.loc[school_and_student_df['math_score']>=70,['school_name','Student ID']]\n",
    "sch_passing_math_gbo=sch_passing_math.groupby(\"school_name\").count()\n",
    "sch_summary_df=pd.merge(sch_summary_df,sch_passing_math_gbo,how='outer',on=\"school_name\")\n",
    "sch_summary_df=sch_summary_df.rename(columns={\"Student ID\":\"Students Passing Math\"})\n",
    "\n",
    "\n",
    "### pulls in the number of students passing math and reading \n",
    "sch_passing_both=school_and_student_df.loc[school_and_student_df['math_score' and 'reading_score']>=70,['school_name','Student ID']]\n",
    "sch_passing_both_gbo=sch_passing_both.groupby(\"school_name\").count()\n",
    "sch_summary_df=pd.merge(sch_summary_df,sch_passing_both_gbo,how='outer',on=\"school_name\")\n",
    "sch_summary_df=sch_summary_df.rename(columns={\"Student ID\":\"Students Passing Both\"})\n",
    "\n",
    "\n",
    "\n",
    "sch_summary_df.head()\n",
    "\n",
    "\n",
    "\n",
    "\n",
    " "
   ]
  },
  {
   "cell_type": "markdown",
   "metadata": {},
   "source": [
    "## Top Performing Schools (By % Overall Passing)"
   ]
  },
  {
   "cell_type": "markdown",
   "metadata": {},
   "source": [
    "* Sort and display the top five performing schools by % overall passing."
   ]
  },
  {
   "cell_type": "code",
   "execution_count": null,
   "metadata": {
    "scrolled": true
   },
   "outputs": [],
   "source": []
  },
  {
   "cell_type": "markdown",
   "metadata": {},
   "source": [
    "## Bottom Performing Schools (By % Overall Passing)"
   ]
  },
  {
   "cell_type": "markdown",
   "metadata": {},
   "source": [
    "* Sort and display the five worst-performing schools by % overall passing."
   ]
  },
  {
   "cell_type": "code",
   "execution_count": null,
   "metadata": {},
   "outputs": [],
   "source": []
  },
  {
   "cell_type": "markdown",
   "metadata": {
    "collapsed": true
   },
   "source": [
    "## Math Scores by Grade"
   ]
  },
  {
   "cell_type": "markdown",
   "metadata": {},
   "source": [
    "* Create a table that lists the average Reading Score for students of each grade level (9th, 10th, 11th, 12th) at each school.\n",
    "\n",
    "  * Create a pandas series for each grade. Hint: use a conditional statement.\n",
    "  \n",
    "  * Group each series by school\n",
    "  \n",
    "  * Combine the series into a dataframe\n",
    "  \n",
    "  * Optional: give the displayed data cleaner formatting"
   ]
  },
  {
   "cell_type": "code",
   "execution_count": null,
   "metadata": {},
   "outputs": [],
   "source": []
  },
  {
   "cell_type": "markdown",
   "metadata": {},
   "source": [
    "## Reading Score by Grade "
   ]
  },
  {
   "cell_type": "markdown",
   "metadata": {},
   "source": [
    "* Perform the same operations as above for reading scores"
   ]
  },
  {
   "cell_type": "code",
   "execution_count": null,
   "metadata": {},
   "outputs": [],
   "source": []
  },
  {
   "cell_type": "markdown",
   "metadata": {},
   "source": [
    "## Scores by School Spending"
   ]
  },
  {
   "cell_type": "markdown",
   "metadata": {},
   "source": [
    "* Create a table that breaks down school performances based on average Spending Ranges (Per Student). Use 4 reasonable bins to group school spending. Include in the table each of the following:\n",
    "  * Average Math Score\n",
    "  * Average Reading Score\n",
    "  * % Passing Math\n",
    "  * % Passing Reading\n",
    "  * Overall Passing Rate (Average of the above two)"
   ]
  },
  {
   "cell_type": "code",
   "execution_count": null,
   "metadata": {},
   "outputs": [],
   "source": []
  },
  {
   "cell_type": "markdown",
   "metadata": {},
   "source": [
    "## Scores by School Size"
   ]
  },
  {
   "cell_type": "markdown",
   "metadata": {},
   "source": [
    "* Perform the same operations as above, based on school size."
   ]
  },
  {
   "cell_type": "code",
   "execution_count": null,
   "metadata": {
    "scrolled": true
   },
   "outputs": [],
   "source": []
  },
  {
   "cell_type": "markdown",
   "metadata": {},
   "source": [
    "## Scores by School Type"
   ]
  },
  {
   "cell_type": "markdown",
   "metadata": {},
   "source": [
    "* Perform the same operations as above, based on school type"
   ]
  },
  {
   "cell_type": "code",
   "execution_count": null,
   "metadata": {},
   "outputs": [],
   "source": []
  },
  {
   "cell_type": "code",
   "execution_count": null,
   "metadata": {},
   "outputs": [],
   "source": []
  }
 ],
 "metadata": {
  "anaconda-cloud": {},
  "kernel_info": {
   "name": "python3"
  },
  "kernelspec": {
   "name": "Python 3.6.10 64-bit ('PythonData': conda)",
   "display_name": "Python 3.6.10 64-bit ('PythonData': conda)",
   "metadata": {
    "interpreter": {
     "hash": "7e7c916c673641125590bd307b68bb4342787996dc085909d7e5c72ee4d13010"
    }
   }
  },
  "language_info": {
   "codemirror_mode": {
    "name": "ipython",
    "version": 3
   },
   "file_extension": ".py",
   "mimetype": "text/x-python",
   "name": "python",
   "nbconvert_exporter": "python",
   "pygments_lexer": "ipython3",
   "version": "3.6.10-final"
  },
  "latex_envs": {
   "LaTeX_envs_menu_present": true,
   "autoclose": false,
   "autocomplete": true,
   "bibliofile": "biblio.bib",
   "cite_by": "apalike",
   "current_citInitial": 1,
   "eqLabelWithNumbers": true,
   "eqNumInitial": 1,
   "hotkeys": {
    "equation": "Ctrl-E",
    "itemize": "Ctrl-I"
   },
   "labels_anchors": false,
   "latex_user_defs": false,
   "report_style_numbering": false,
   "user_envs_cfg": false
  },
  "nteract": {
   "version": "0.8.4"
  }
 },
 "nbformat": 4,
 "nbformat_minor": 1
}